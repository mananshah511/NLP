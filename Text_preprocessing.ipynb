{
  "nbformat": 4,
  "nbformat_minor": 0,
  "metadata": {
    "colab": {
      "name": "Text_preprocessing.ipynb",
      "provenance": []
    },
    "kernelspec": {
      "name": "python3",
      "display_name": "Python 3"
    }
  },
  "cells": [
    {
      "cell_type": "code",
      "metadata": {
        "colab": {
          "base_uri": "https://localhost:8080/"
        },
        "id": "-B8mo7sW-R43",
        "outputId": "1bf43eae-4e92-4784-a9d7-86688915884c"
      },
      "source": [
        "import nltk\r\n",
        "nltk.download('all')"
      ],
      "execution_count": 3,
      "outputs": [
        {
          "output_type": "stream",
          "text": [
            "[nltk_data] Downloading collection 'all'\n",
            "[nltk_data]    | \n",
            "[nltk_data]    | Downloading package abc to /root/nltk_data...\n",
            "[nltk_data]    |   Unzipping corpora/abc.zip.\n",
            "[nltk_data]    | Downloading package alpino to /root/nltk_data...\n",
            "[nltk_data]    |   Unzipping corpora/alpino.zip.\n",
            "[nltk_data]    | Downloading package biocreative_ppi to\n",
            "[nltk_data]    |     /root/nltk_data...\n",
            "[nltk_data]    |   Unzipping corpora/biocreative_ppi.zip.\n",
            "[nltk_data]    | Downloading package brown to /root/nltk_data...\n",
            "[nltk_data]    |   Unzipping corpora/brown.zip.\n",
            "[nltk_data]    | Downloading package brown_tei to /root/nltk_data...\n",
            "[nltk_data]    |   Unzipping corpora/brown_tei.zip.\n",
            "[nltk_data]    | Downloading package cess_cat to /root/nltk_data...\n",
            "[nltk_data]    |   Unzipping corpora/cess_cat.zip.\n",
            "[nltk_data]    | Downloading package cess_esp to /root/nltk_data...\n",
            "[nltk_data]    |   Unzipping corpora/cess_esp.zip.\n",
            "[nltk_data]    | Downloading package chat80 to /root/nltk_data...\n",
            "[nltk_data]    |   Unzipping corpora/chat80.zip.\n",
            "[nltk_data]    | Downloading package city_database to\n",
            "[nltk_data]    |     /root/nltk_data...\n",
            "[nltk_data]    |   Unzipping corpora/city_database.zip.\n",
            "[nltk_data]    | Downloading package cmudict to /root/nltk_data...\n",
            "[nltk_data]    |   Unzipping corpora/cmudict.zip.\n",
            "[nltk_data]    | Downloading package comparative_sentences to\n",
            "[nltk_data]    |     /root/nltk_data...\n",
            "[nltk_data]    |   Unzipping corpora/comparative_sentences.zip.\n",
            "[nltk_data]    | Downloading package comtrans to /root/nltk_data...\n",
            "[nltk_data]    | Downloading package conll2000 to /root/nltk_data...\n",
            "[nltk_data]    |   Unzipping corpora/conll2000.zip.\n",
            "[nltk_data]    | Downloading package conll2002 to /root/nltk_data...\n",
            "[nltk_data]    |   Unzipping corpora/conll2002.zip.\n",
            "[nltk_data]    | Downloading package conll2007 to /root/nltk_data...\n",
            "[nltk_data]    | Downloading package crubadan to /root/nltk_data...\n",
            "[nltk_data]    |   Unzipping corpora/crubadan.zip.\n",
            "[nltk_data]    | Downloading package dependency_treebank to\n",
            "[nltk_data]    |     /root/nltk_data...\n",
            "[nltk_data]    |   Unzipping corpora/dependency_treebank.zip.\n",
            "[nltk_data]    | Downloading package dolch to /root/nltk_data...\n",
            "[nltk_data]    |   Unzipping corpora/dolch.zip.\n",
            "[nltk_data]    | Downloading package europarl_raw to\n",
            "[nltk_data]    |     /root/nltk_data...\n",
            "[nltk_data]    |   Unzipping corpora/europarl_raw.zip.\n",
            "[nltk_data]    | Downloading package floresta to /root/nltk_data...\n",
            "[nltk_data]    |   Unzipping corpora/floresta.zip.\n",
            "[nltk_data]    | Downloading package framenet_v15 to\n",
            "[nltk_data]    |     /root/nltk_data...\n",
            "[nltk_data]    |   Unzipping corpora/framenet_v15.zip.\n",
            "[nltk_data]    | Downloading package framenet_v17 to\n",
            "[nltk_data]    |     /root/nltk_data...\n",
            "[nltk_data]    |   Unzipping corpora/framenet_v17.zip.\n",
            "[nltk_data]    | Downloading package gazetteers to /root/nltk_data...\n",
            "[nltk_data]    |   Unzipping corpora/gazetteers.zip.\n",
            "[nltk_data]    | Downloading package genesis to /root/nltk_data...\n",
            "[nltk_data]    |   Unzipping corpora/genesis.zip.\n",
            "[nltk_data]    | Downloading package gutenberg to /root/nltk_data...\n",
            "[nltk_data]    |   Unzipping corpora/gutenberg.zip.\n",
            "[nltk_data]    | Downloading package ieer to /root/nltk_data...\n",
            "[nltk_data]    |   Unzipping corpora/ieer.zip.\n",
            "[nltk_data]    | Downloading package inaugural to /root/nltk_data...\n",
            "[nltk_data]    |   Unzipping corpora/inaugural.zip.\n",
            "[nltk_data]    | Downloading package indian to /root/nltk_data...\n",
            "[nltk_data]    |   Unzipping corpora/indian.zip.\n",
            "[nltk_data]    | Downloading package jeita to /root/nltk_data...\n",
            "[nltk_data]    | Downloading package kimmo to /root/nltk_data...\n",
            "[nltk_data]    |   Unzipping corpora/kimmo.zip.\n",
            "[nltk_data]    | Downloading package knbc to /root/nltk_data...\n",
            "[nltk_data]    | Downloading package lin_thesaurus to\n",
            "[nltk_data]    |     /root/nltk_data...\n",
            "[nltk_data]    |   Unzipping corpora/lin_thesaurus.zip.\n",
            "[nltk_data]    | Downloading package mac_morpho to /root/nltk_data...\n",
            "[nltk_data]    |   Unzipping corpora/mac_morpho.zip.\n",
            "[nltk_data]    | Downloading package machado to /root/nltk_data...\n",
            "[nltk_data]    | Downloading package masc_tagged to /root/nltk_data...\n",
            "[nltk_data]    | Downloading package moses_sample to\n",
            "[nltk_data]    |     /root/nltk_data...\n",
            "[nltk_data]    |   Unzipping models/moses_sample.zip.\n",
            "[nltk_data]    | Downloading package movie_reviews to\n",
            "[nltk_data]    |     /root/nltk_data...\n",
            "[nltk_data]    |   Unzipping corpora/movie_reviews.zip.\n",
            "[nltk_data]    | Downloading package names to /root/nltk_data...\n",
            "[nltk_data]    |   Unzipping corpora/names.zip.\n",
            "[nltk_data]    | Downloading package nombank.1.0 to /root/nltk_data...\n",
            "[nltk_data]    | Downloading package nps_chat to /root/nltk_data...\n",
            "[nltk_data]    |   Unzipping corpora/nps_chat.zip.\n",
            "[nltk_data]    | Downloading package omw to /root/nltk_data...\n",
            "[nltk_data]    |   Unzipping corpora/omw.zip.\n",
            "[nltk_data]    | Downloading package opinion_lexicon to\n",
            "[nltk_data]    |     /root/nltk_data...\n",
            "[nltk_data]    |   Unzipping corpora/opinion_lexicon.zip.\n",
            "[nltk_data]    | Downloading package paradigms to /root/nltk_data...\n",
            "[nltk_data]    |   Unzipping corpora/paradigms.zip.\n",
            "[nltk_data]    | Downloading package pil to /root/nltk_data...\n",
            "[nltk_data]    |   Unzipping corpora/pil.zip.\n",
            "[nltk_data]    | Downloading package pl196x to /root/nltk_data...\n",
            "[nltk_data]    |   Unzipping corpora/pl196x.zip.\n",
            "[nltk_data]    | Downloading package ppattach to /root/nltk_data...\n",
            "[nltk_data]    |   Unzipping corpora/ppattach.zip.\n",
            "[nltk_data]    | Downloading package problem_reports to\n",
            "[nltk_data]    |     /root/nltk_data...\n",
            "[nltk_data]    |   Unzipping corpora/problem_reports.zip.\n",
            "[nltk_data]    | Downloading package propbank to /root/nltk_data...\n",
            "[nltk_data]    | Downloading package ptb to /root/nltk_data...\n",
            "[nltk_data]    |   Unzipping corpora/ptb.zip.\n",
            "[nltk_data]    | Downloading package product_reviews_1 to\n",
            "[nltk_data]    |     /root/nltk_data...\n",
            "[nltk_data]    |   Unzipping corpora/product_reviews_1.zip.\n",
            "[nltk_data]    | Downloading package product_reviews_2 to\n",
            "[nltk_data]    |     /root/nltk_data...\n",
            "[nltk_data]    |   Unzipping corpora/product_reviews_2.zip.\n",
            "[nltk_data]    | Downloading package pros_cons to /root/nltk_data...\n",
            "[nltk_data]    |   Unzipping corpora/pros_cons.zip.\n",
            "[nltk_data]    | Downloading package qc to /root/nltk_data...\n",
            "[nltk_data]    |   Unzipping corpora/qc.zip.\n",
            "[nltk_data]    | Downloading package reuters to /root/nltk_data...\n",
            "[nltk_data]    | Downloading package rte to /root/nltk_data...\n",
            "[nltk_data]    |   Unzipping corpora/rte.zip.\n",
            "[nltk_data]    | Downloading package semcor to /root/nltk_data...\n",
            "[nltk_data]    | Downloading package senseval to /root/nltk_data...\n",
            "[nltk_data]    |   Unzipping corpora/senseval.zip.\n",
            "[nltk_data]    | Downloading package sentiwordnet to\n",
            "[nltk_data]    |     /root/nltk_data...\n",
            "[nltk_data]    |   Unzipping corpora/sentiwordnet.zip.\n",
            "[nltk_data]    | Downloading package sentence_polarity to\n",
            "[nltk_data]    |     /root/nltk_data...\n",
            "[nltk_data]    |   Unzipping corpora/sentence_polarity.zip.\n",
            "[nltk_data]    | Downloading package shakespeare to /root/nltk_data...\n",
            "[nltk_data]    |   Unzipping corpora/shakespeare.zip.\n",
            "[nltk_data]    | Downloading package sinica_treebank to\n",
            "[nltk_data]    |     /root/nltk_data...\n",
            "[nltk_data]    |   Unzipping corpora/sinica_treebank.zip.\n",
            "[nltk_data]    | Downloading package smultron to /root/nltk_data...\n",
            "[nltk_data]    |   Unzipping corpora/smultron.zip.\n",
            "[nltk_data]    | Downloading package state_union to /root/nltk_data...\n",
            "[nltk_data]    |   Unzipping corpora/state_union.zip.\n",
            "[nltk_data]    | Downloading package stopwords to /root/nltk_data...\n",
            "[nltk_data]    |   Unzipping corpora/stopwords.zip.\n",
            "[nltk_data]    | Downloading package subjectivity to\n",
            "[nltk_data]    |     /root/nltk_data...\n",
            "[nltk_data]    |   Unzipping corpora/subjectivity.zip.\n",
            "[nltk_data]    | Downloading package swadesh to /root/nltk_data...\n",
            "[nltk_data]    |   Unzipping corpora/swadesh.zip.\n",
            "[nltk_data]    | Downloading package switchboard to /root/nltk_data...\n",
            "[nltk_data]    |   Unzipping corpora/switchboard.zip.\n",
            "[nltk_data]    | Downloading package timit to /root/nltk_data...\n",
            "[nltk_data]    |   Unzipping corpora/timit.zip.\n",
            "[nltk_data]    | Downloading package toolbox to /root/nltk_data...\n",
            "[nltk_data]    |   Unzipping corpora/toolbox.zip.\n",
            "[nltk_data]    | Downloading package treebank to /root/nltk_data...\n",
            "[nltk_data]    |   Unzipping corpora/treebank.zip.\n",
            "[nltk_data]    | Downloading package twitter_samples to\n",
            "[nltk_data]    |     /root/nltk_data...\n",
            "[nltk_data]    |   Unzipping corpora/twitter_samples.zip.\n",
            "[nltk_data]    | Downloading package udhr to /root/nltk_data...\n",
            "[nltk_data]    |   Unzipping corpora/udhr.zip.\n",
            "[nltk_data]    | Downloading package udhr2 to /root/nltk_data...\n",
            "[nltk_data]    |   Unzipping corpora/udhr2.zip.\n",
            "[nltk_data]    | Downloading package unicode_samples to\n",
            "[nltk_data]    |     /root/nltk_data...\n",
            "[nltk_data]    |   Unzipping corpora/unicode_samples.zip.\n",
            "[nltk_data]    | Downloading package universal_treebanks_v20 to\n",
            "[nltk_data]    |     /root/nltk_data...\n",
            "[nltk_data]    | Downloading package verbnet to /root/nltk_data...\n",
            "[nltk_data]    |   Unzipping corpora/verbnet.zip.\n",
            "[nltk_data]    | Downloading package verbnet3 to /root/nltk_data...\n",
            "[nltk_data]    |   Unzipping corpora/verbnet3.zip.\n",
            "[nltk_data]    | Downloading package webtext to /root/nltk_data...\n",
            "[nltk_data]    |   Unzipping corpora/webtext.zip.\n",
            "[nltk_data]    | Downloading package wordnet to /root/nltk_data...\n",
            "[nltk_data]    |   Unzipping corpora/wordnet.zip.\n",
            "[nltk_data]    | Downloading package wordnet_ic to /root/nltk_data...\n",
            "[nltk_data]    |   Unzipping corpora/wordnet_ic.zip.\n",
            "[nltk_data]    | Downloading package words to /root/nltk_data...\n",
            "[nltk_data]    |   Unzipping corpora/words.zip.\n",
            "[nltk_data]    | Downloading package ycoe to /root/nltk_data...\n",
            "[nltk_data]    |   Unzipping corpora/ycoe.zip.\n",
            "[nltk_data]    | Downloading package rslp to /root/nltk_data...\n",
            "[nltk_data]    |   Unzipping stemmers/rslp.zip.\n",
            "[nltk_data]    | Downloading package maxent_treebank_pos_tagger to\n",
            "[nltk_data]    |     /root/nltk_data...\n",
            "[nltk_data]    |   Unzipping taggers/maxent_treebank_pos_tagger.zip.\n",
            "[nltk_data]    | Downloading package universal_tagset to\n",
            "[nltk_data]    |     /root/nltk_data...\n",
            "[nltk_data]    |   Unzipping taggers/universal_tagset.zip.\n",
            "[nltk_data]    | Downloading package maxent_ne_chunker to\n",
            "[nltk_data]    |     /root/nltk_data...\n",
            "[nltk_data]    |   Unzipping chunkers/maxent_ne_chunker.zip.\n",
            "[nltk_data]    | Downloading package punkt to /root/nltk_data...\n",
            "[nltk_data]    |   Unzipping tokenizers/punkt.zip.\n",
            "[nltk_data]    | Downloading package book_grammars to\n",
            "[nltk_data]    |     /root/nltk_data...\n",
            "[nltk_data]    |   Unzipping grammars/book_grammars.zip.\n",
            "[nltk_data]    | Downloading package sample_grammars to\n",
            "[nltk_data]    |     /root/nltk_data...\n",
            "[nltk_data]    |   Unzipping grammars/sample_grammars.zip.\n",
            "[nltk_data]    | Downloading package spanish_grammars to\n",
            "[nltk_data]    |     /root/nltk_data...\n",
            "[nltk_data]    |   Unzipping grammars/spanish_grammars.zip.\n",
            "[nltk_data]    | Downloading package basque_grammars to\n",
            "[nltk_data]    |     /root/nltk_data...\n",
            "[nltk_data]    |   Unzipping grammars/basque_grammars.zip.\n",
            "[nltk_data]    | Downloading package large_grammars to\n",
            "[nltk_data]    |     /root/nltk_data...\n",
            "[nltk_data]    |   Unzipping grammars/large_grammars.zip.\n",
            "[nltk_data]    | Downloading package tagsets to /root/nltk_data...\n",
            "[nltk_data]    |   Unzipping help/tagsets.zip.\n",
            "[nltk_data]    | Downloading package snowball_data to\n",
            "[nltk_data]    |     /root/nltk_data...\n",
            "[nltk_data]    | Downloading package bllip_wsj_no_aux to\n",
            "[nltk_data]    |     /root/nltk_data...\n",
            "[nltk_data]    |   Unzipping models/bllip_wsj_no_aux.zip.\n",
            "[nltk_data]    | Downloading package word2vec_sample to\n",
            "[nltk_data]    |     /root/nltk_data...\n",
            "[nltk_data]    |   Unzipping models/word2vec_sample.zip.\n",
            "[nltk_data]    | Downloading package panlex_swadesh to\n",
            "[nltk_data]    |     /root/nltk_data...\n",
            "[nltk_data]    | Downloading package mte_teip5 to /root/nltk_data...\n",
            "[nltk_data]    |   Unzipping corpora/mte_teip5.zip.\n",
            "[nltk_data]    | Downloading package averaged_perceptron_tagger to\n",
            "[nltk_data]    |     /root/nltk_data...\n",
            "[nltk_data]    |   Unzipping taggers/averaged_perceptron_tagger.zip.\n",
            "[nltk_data]    | Downloading package averaged_perceptron_tagger_ru to\n",
            "[nltk_data]    |     /root/nltk_data...\n",
            "[nltk_data]    |   Unzipping\n",
            "[nltk_data]    |       taggers/averaged_perceptron_tagger_ru.zip.\n",
            "[nltk_data]    | Downloading package perluniprops to\n",
            "[nltk_data]    |     /root/nltk_data...\n",
            "[nltk_data]    |   Unzipping misc/perluniprops.zip.\n",
            "[nltk_data]    | Downloading package nonbreaking_prefixes to\n",
            "[nltk_data]    |     /root/nltk_data...\n",
            "[nltk_data]    |   Unzipping corpora/nonbreaking_prefixes.zip.\n",
            "[nltk_data]    | Downloading package vader_lexicon to\n",
            "[nltk_data]    |     /root/nltk_data...\n",
            "[nltk_data]    | Downloading package porter_test to /root/nltk_data...\n",
            "[nltk_data]    |   Unzipping stemmers/porter_test.zip.\n",
            "[nltk_data]    | Downloading package wmt15_eval to /root/nltk_data...\n",
            "[nltk_data]    |   Unzipping models/wmt15_eval.zip.\n",
            "[nltk_data]    | Downloading package mwa_ppdb to /root/nltk_data...\n",
            "[nltk_data]    |   Unzipping misc/mwa_ppdb.zip.\n",
            "[nltk_data]    | \n",
            "[nltk_data]  Done downloading collection all\n"
          ],
          "name": "stdout"
        },
        {
          "output_type": "execute_result",
          "data": {
            "text/plain": [
              "True"
            ]
          },
          "metadata": {
            "tags": []
          },
          "execution_count": 3
        }
      ]
    },
    {
      "cell_type": "code",
      "metadata": {
        "id": "UlYOdJyy9Uot"
      },
      "source": [
        "def tokenization(cropus,sentences=True,words=True):\r\n",
        "  paragraph=cropus\r\n",
        "  if sentences and words:\r\n",
        "    s=nltk.sent_tokenize(paragraph)\r\n",
        "    w=nltk.word_tokenize(paragraph)\r\n",
        "    return s,w\r\n",
        "  elif sentences:\r\n",
        "    s=nltk.sent_tokenize(paragraph)\r\n",
        "    return s\r\n",
        "  elif words:\r\n",
        "    w=nltk.word_tokenize(paragraph)\r\n",
        "    return w\r\n"
      ],
      "execution_count": 12,
      "outputs": []
    },
    {
      "cell_type": "code",
      "metadata": {
        "id": "PfeMDrdx_tMj"
      },
      "source": [
        "text='Provisions for the formation of the union territory of Jammu and Kashmir were contained within the Jammu and Kashmir Reorganisation Act, 2019, which was passed by both houses of the Parliament of India in August 2019. The act re-constituted the former state of Jammu and Kashmir into two union territories, Jammu and Kashmir and Ladakh, with effect from 31 October 2019'"
      ],
      "execution_count": 6,
      "outputs": []
    },
    {
      "cell_type": "code",
      "metadata": {
        "colab": {
          "base_uri": "https://localhost:8080/"
        },
        "id": "zD9nKbPHACKG",
        "outputId": "11cd3939-293e-4192-bcb6-b01584863fb7"
      },
      "source": [
        "tokenization(text,True,False)"
      ],
      "execution_count": 7,
      "outputs": [
        {
          "output_type": "execute_result",
          "data": {
            "text/plain": [
              "['Provisions for the formation of the union territory of Jammu and Kashmir were contained within the Jammu and Kashmir Reorganisation Act, 2019, which was passed by both houses of the Parliament of India in August 2019.',\n",
              " 'The act re-constituted the former state of Jammu and Kashmir into two union territories, Jammu and Kashmir and Ladakh, with effect from 31 October 2019']"
            ]
          },
          "metadata": {
            "tags": []
          },
          "execution_count": 7
        }
      ]
    },
    {
      "cell_type": "code",
      "metadata": {
        "colab": {
          "base_uri": "https://localhost:8080/"
        },
        "id": "xSJ7su2fANiQ",
        "outputId": "37dff488-77e2-4eaf-b380-64e166fb9e76"
      },
      "source": [
        "tokenization(text,False,True)"
      ],
      "execution_count": 8,
      "outputs": [
        {
          "output_type": "execute_result",
          "data": {
            "text/plain": [
              "['Provisions',\n",
              " 'for',\n",
              " 'the',\n",
              " 'formation',\n",
              " 'of',\n",
              " 'the',\n",
              " 'union',\n",
              " 'territory',\n",
              " 'of',\n",
              " 'Jammu',\n",
              " 'and',\n",
              " 'Kashmir',\n",
              " 'were',\n",
              " 'contained',\n",
              " 'within',\n",
              " 'the',\n",
              " 'Jammu',\n",
              " 'and',\n",
              " 'Kashmir',\n",
              " 'Reorganisation',\n",
              " 'Act',\n",
              " ',',\n",
              " '2019',\n",
              " ',',\n",
              " 'which',\n",
              " 'was',\n",
              " 'passed',\n",
              " 'by',\n",
              " 'both',\n",
              " 'houses',\n",
              " 'of',\n",
              " 'the',\n",
              " 'Parliament',\n",
              " 'of',\n",
              " 'India',\n",
              " 'in',\n",
              " 'August',\n",
              " '2019',\n",
              " '.',\n",
              " 'The',\n",
              " 'act',\n",
              " 're-constituted',\n",
              " 'the',\n",
              " 'former',\n",
              " 'state',\n",
              " 'of',\n",
              " 'Jammu',\n",
              " 'and',\n",
              " 'Kashmir',\n",
              " 'into',\n",
              " 'two',\n",
              " 'union',\n",
              " 'territories',\n",
              " ',',\n",
              " 'Jammu',\n",
              " 'and',\n",
              " 'Kashmir',\n",
              " 'and',\n",
              " 'Ladakh',\n",
              " ',',\n",
              " 'with',\n",
              " 'effect',\n",
              " 'from',\n",
              " '31',\n",
              " 'October',\n",
              " '2019']"
            ]
          },
          "metadata": {
            "tags": []
          },
          "execution_count": 8
        }
      ]
    },
    {
      "cell_type": "code",
      "metadata": {
        "colab": {
          "base_uri": "https://localhost:8080/"
        },
        "id": "ba3vTUA5ASAa",
        "outputId": "0940d96e-786d-463d-cdde-160b8804e3af"
      },
      "source": [
        "tokenization(text,True,True)"
      ],
      "execution_count": 9,
      "outputs": [
        {
          "output_type": "execute_result",
          "data": {
            "text/plain": [
              "(['Provisions for the formation of the union territory of Jammu and Kashmir were contained within the Jammu and Kashmir Reorganisation Act, 2019, which was passed by both houses of the Parliament of India in August 2019.',\n",
              "  'The act re-constituted the former state of Jammu and Kashmir into two union territories, Jammu and Kashmir and Ladakh, with effect from 31 October 2019'],\n",
              " ['Provisions',\n",
              "  'for',\n",
              "  'the',\n",
              "  'formation',\n",
              "  'of',\n",
              "  'the',\n",
              "  'union',\n",
              "  'territory',\n",
              "  'of',\n",
              "  'Jammu',\n",
              "  'and',\n",
              "  'Kashmir',\n",
              "  'were',\n",
              "  'contained',\n",
              "  'within',\n",
              "  'the',\n",
              "  'Jammu',\n",
              "  'and',\n",
              "  'Kashmir',\n",
              "  'Reorganisation',\n",
              "  'Act',\n",
              "  ',',\n",
              "  '2019',\n",
              "  ',',\n",
              "  'which',\n",
              "  'was',\n",
              "  'passed',\n",
              "  'by',\n",
              "  'both',\n",
              "  'houses',\n",
              "  'of',\n",
              "  'the',\n",
              "  'Parliament',\n",
              "  'of',\n",
              "  'India',\n",
              "  'in',\n",
              "  'August',\n",
              "  '2019',\n",
              "  '.',\n",
              "  'The',\n",
              "  'act',\n",
              "  're-constituted',\n",
              "  'the',\n",
              "  'former',\n",
              "  'state',\n",
              "  'of',\n",
              "  'Jammu',\n",
              "  'and',\n",
              "  'Kashmir',\n",
              "  'into',\n",
              "  'two',\n",
              "  'union',\n",
              "  'territories',\n",
              "  ',',\n",
              "  'Jammu',\n",
              "  'and',\n",
              "  'Kashmir',\n",
              "  'and',\n",
              "  'Ladakh',\n",
              "  ',',\n",
              "  'with',\n",
              "  'effect',\n",
              "  'from',\n",
              "  '31',\n",
              "  'October',\n",
              "  '2019'])"
            ]
          },
          "metadata": {
            "tags": []
          },
          "execution_count": 9
        }
      ]
    },
    {
      "cell_type": "code",
      "metadata": {
        "id": "z1LxP6k1AVgl"
      },
      "source": [
        "from nltk.corpus import stopwords\r\n",
        "def remove_stopwords(corpus,token=True):\r\n",
        "  w=corpus\r\n",
        "  if token:\r\n",
        "    w=tokenization(corpus,False,True)\r\n",
        "  w=[w for w in w if w not in set(stopwords.words('english'))]\r\n",
        "  return w"
      ],
      "execution_count": 22,
      "outputs": []
    },
    {
      "cell_type": "code",
      "metadata": {
        "colab": {
          "base_uri": "https://localhost:8080/"
        },
        "id": "eSSIWEtUEQGZ",
        "outputId": "d1edbe09-b090-4d22-aac5-93e961094360"
      },
      "source": [
        "remove_stopwords(text,True)"
      ],
      "execution_count": 18,
      "outputs": [
        {
          "output_type": "execute_result",
          "data": {
            "text/plain": [
              "['Provisions',\n",
              " 'formation',\n",
              " 'union',\n",
              " 'territory',\n",
              " 'Jammu',\n",
              " 'Kashmir',\n",
              " 'contained',\n",
              " 'within',\n",
              " 'Jammu',\n",
              " 'Kashmir',\n",
              " 'Reorganisation',\n",
              " 'Act',\n",
              " ',',\n",
              " '2019',\n",
              " ',',\n",
              " 'passed',\n",
              " 'houses',\n",
              " 'Parliament',\n",
              " 'India',\n",
              " 'August',\n",
              " '2019',\n",
              " '.',\n",
              " 'The',\n",
              " 'act',\n",
              " 're-constituted',\n",
              " 'former',\n",
              " 'state',\n",
              " 'Jammu',\n",
              " 'Kashmir',\n",
              " 'two',\n",
              " 'union',\n",
              " 'territories',\n",
              " ',',\n",
              " 'Jammu',\n",
              " 'Kashmir',\n",
              " 'Ladakh',\n",
              " ',',\n",
              " 'effect',\n",
              " '31',\n",
              " 'October',\n",
              " '2019']"
            ]
          },
          "metadata": {
            "tags": []
          },
          "execution_count": 18
        }
      ]
    },
    {
      "cell_type": "code",
      "metadata": {
        "id": "I3HCYawQEVx1"
      },
      "source": [
        "from nltk.stem import PorterStemmer\r\n",
        "def stemming(corpus,token=True):\r\n",
        "  w=corpus\r\n",
        "  if token:\r\n",
        "    w=tokenization(corpus,False,True)\r\n",
        "  w=[PorterStemmer().stem(w) for w in w]\r\n",
        "  return w"
      ],
      "execution_count": 23,
      "outputs": []
    },
    {
      "cell_type": "code",
      "metadata": {
        "colab": {
          "base_uri": "https://localhost:8080/"
        },
        "id": "IwlQFOp4FEyi",
        "outputId": "fda75ec8-5f52-4529-dc33-2b6ebf5ef26e"
      },
      "source": [
        "stemming(text,True)"
      ],
      "execution_count": 16,
      "outputs": [
        {
          "output_type": "execute_result",
          "data": {
            "text/plain": [
              "['provis',\n",
              " 'for',\n",
              " 'the',\n",
              " 'format',\n",
              " 'of',\n",
              " 'the',\n",
              " 'union',\n",
              " 'territori',\n",
              " 'of',\n",
              " 'jammu',\n",
              " 'and',\n",
              " 'kashmir',\n",
              " 'were',\n",
              " 'contain',\n",
              " 'within',\n",
              " 'the',\n",
              " 'jammu',\n",
              " 'and',\n",
              " 'kashmir',\n",
              " 'reorganis',\n",
              " 'act',\n",
              " ',',\n",
              " '2019',\n",
              " ',',\n",
              " 'which',\n",
              " 'wa',\n",
              " 'pass',\n",
              " 'by',\n",
              " 'both',\n",
              " 'hous',\n",
              " 'of',\n",
              " 'the',\n",
              " 'parliament',\n",
              " 'of',\n",
              " 'india',\n",
              " 'in',\n",
              " 'august',\n",
              " '2019',\n",
              " '.',\n",
              " 'the',\n",
              " 'act',\n",
              " 're-constitut',\n",
              " 'the',\n",
              " 'former',\n",
              " 'state',\n",
              " 'of',\n",
              " 'jammu',\n",
              " 'and',\n",
              " 'kashmir',\n",
              " 'into',\n",
              " 'two',\n",
              " 'union',\n",
              " 'territori',\n",
              " ',',\n",
              " 'jammu',\n",
              " 'and',\n",
              " 'kashmir',\n",
              " 'and',\n",
              " 'ladakh',\n",
              " ',',\n",
              " 'with',\n",
              " 'effect',\n",
              " 'from',\n",
              " '31',\n",
              " 'octob',\n",
              " '2019']"
            ]
          },
          "metadata": {
            "tags": []
          },
          "execution_count": 16
        }
      ]
    },
    {
      "cell_type": "code",
      "metadata": {
        "colab": {
          "base_uri": "https://localhost:8080/"
        },
        "id": "11MKqKHHFI_i",
        "outputId": "231f4c5a-7a4f-4f00-9fd0-d57dc249a5f2"
      },
      "source": [
        "x=tokenization(text,False,True)\r\n",
        "x=remove_stopwords(x,False)\r\n",
        "x=stemming(x,False)\r\n",
        "print(x)"
      ],
      "execution_count": 24,
      "outputs": [
        {
          "output_type": "stream",
          "text": [
            "['provis', 'format', 'union', 'territori', 'jammu', 'kashmir', 'contain', 'within', 'jammu', 'kashmir', 'reorganis', 'act', ',', '2019', ',', 'pass', 'hous', 'parliament', 'india', 'august', '2019', '.', 'the', 'act', 're-constitut', 'former', 'state', 'jammu', 'kashmir', 'two', 'union', 'territori', ',', 'jammu', 'kashmir', 'ladakh', ',', 'effect', '31', 'octob', '2019']\n"
          ],
          "name": "stdout"
        }
      ]
    },
    {
      "cell_type": "code",
      "metadata": {
        "id": "Bk-TmkTIFw9e"
      },
      "source": [
        "from nltk.stem import WordNetLemmatizer\r\n",
        "def lemmatization(corpus,token=True):\r\n",
        "  w=corpus\r\n",
        "  if token:\r\n",
        "    w=tokenization(w,False,True)\r\n",
        "  w=[WordNetLemmatizer().lemmatize(w) for w in w]\r\n",
        "  return w"
      ],
      "execution_count": 25,
      "outputs": []
    },
    {
      "cell_type": "code",
      "metadata": {
        "colab": {
          "base_uri": "https://localhost:8080/"
        },
        "id": "ZngO7i1CIDt_",
        "outputId": "b248b7da-6378-40dd-b4a2-b099f32ac06d"
      },
      "source": [
        "lemmatization(text,True)"
      ],
      "execution_count": 26,
      "outputs": [
        {
          "output_type": "execute_result",
          "data": {
            "text/plain": [
              "['Provisions',\n",
              " 'for',\n",
              " 'the',\n",
              " 'formation',\n",
              " 'of',\n",
              " 'the',\n",
              " 'union',\n",
              " 'territory',\n",
              " 'of',\n",
              " 'Jammu',\n",
              " 'and',\n",
              " 'Kashmir',\n",
              " 'were',\n",
              " 'contained',\n",
              " 'within',\n",
              " 'the',\n",
              " 'Jammu',\n",
              " 'and',\n",
              " 'Kashmir',\n",
              " 'Reorganisation',\n",
              " 'Act',\n",
              " ',',\n",
              " '2019',\n",
              " ',',\n",
              " 'which',\n",
              " 'wa',\n",
              " 'passed',\n",
              " 'by',\n",
              " 'both',\n",
              " 'house',\n",
              " 'of',\n",
              " 'the',\n",
              " 'Parliament',\n",
              " 'of',\n",
              " 'India',\n",
              " 'in',\n",
              " 'August',\n",
              " '2019',\n",
              " '.',\n",
              " 'The',\n",
              " 'act',\n",
              " 're-constituted',\n",
              " 'the',\n",
              " 'former',\n",
              " 'state',\n",
              " 'of',\n",
              " 'Jammu',\n",
              " 'and',\n",
              " 'Kashmir',\n",
              " 'into',\n",
              " 'two',\n",
              " 'union',\n",
              " 'territory',\n",
              " ',',\n",
              " 'Jammu',\n",
              " 'and',\n",
              " 'Kashmir',\n",
              " 'and',\n",
              " 'Ladakh',\n",
              " ',',\n",
              " 'with',\n",
              " 'effect',\n",
              " 'from',\n",
              " '31',\n",
              " 'October',\n",
              " '2019']"
            ]
          },
          "metadata": {
            "tags": []
          },
          "execution_count": 26
        }
      ]
    },
    {
      "cell_type": "code",
      "metadata": {
        "colab": {
          "base_uri": "https://localhost:8080/"
        },
        "id": "WPK5ygT7IK1k",
        "outputId": "737ce700-a481-48f5-e326-9941a3edafc8"
      },
      "source": [
        "lemmatization(x,False)"
      ],
      "execution_count": 27,
      "outputs": [
        {
          "output_type": "execute_result",
          "data": {
            "text/plain": [
              "['provis',\n",
              " 'format',\n",
              " 'union',\n",
              " 'territori',\n",
              " 'jammu',\n",
              " 'kashmir',\n",
              " 'contain',\n",
              " 'within',\n",
              " 'jammu',\n",
              " 'kashmir',\n",
              " 'reorganis',\n",
              " 'act',\n",
              " ',',\n",
              " '2019',\n",
              " ',',\n",
              " 'pas',\n",
              " 'hous',\n",
              " 'parliament',\n",
              " 'india',\n",
              " 'august',\n",
              " '2019',\n",
              " '.',\n",
              " 'the',\n",
              " 'act',\n",
              " 're-constitut',\n",
              " 'former',\n",
              " 'state',\n",
              " 'jammu',\n",
              " 'kashmir',\n",
              " 'two',\n",
              " 'union',\n",
              " 'territori',\n",
              " ',',\n",
              " 'jammu',\n",
              " 'kashmir',\n",
              " 'ladakh',\n",
              " ',',\n",
              " 'effect',\n",
              " '31',\n",
              " 'octob',\n",
              " '2019']"
            ]
          },
          "metadata": {
            "tags": []
          },
          "execution_count": 27
        }
      ]
    },
    {
      "cell_type": "code",
      "metadata": {
        "id": "ZtP2kxkXIPKu"
      },
      "source": [
        ""
      ],
      "execution_count": null,
      "outputs": []
    }
  ]
}