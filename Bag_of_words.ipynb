{
  "nbformat": 4,
  "nbformat_minor": 0,
  "metadata": {
    "colab": {
      "name": "Bag_of_words.ipynb",
      "provenance": [],
      "collapsed_sections": []
    },
    "kernelspec": {
      "name": "python3",
      "display_name": "Python 3"
    }
  },
  "cells": [
    {
      "cell_type": "code",
      "metadata": {
        "colab": {
          "base_uri": "https://localhost:8080/"
        },
        "id": "alMS_E6_anBP",
        "outputId": "7bef736a-0a08-4134-b888-f04d69a59897"
      },
      "source": [
        "!git clone https://github.com/mananshah511/NLP             #cloning my repo to do some direct preprocessing"
      ],
      "execution_count": 1,
      "outputs": [
        {
          "output_type": "stream",
          "text": [
            "fatal: destination path 'NLP' already exists and is not an empty directory.\n"
          ],
          "name": "stdout"
        }
      ]
    },
    {
      "cell_type": "code",
      "metadata": {
        "id": "pD7TFlQtbiku"
      },
      "source": [
        "from NLP import Text_preprocessing\r\n",
        "import re"
      ],
      "execution_count": 10,
      "outputs": []
    },
    {
      "cell_type": "markdown",
      "metadata": {
        "id": "ZxgftbWvrtF3"
      },
      "source": [
        "# Preprocessing on text1 and text2"
      ]
    },
    {
      "cell_type": "code",
      "metadata": {
        "id": "W0SBCP-7b6N-"
      },
      "source": [
        "text1='The state of Jammu and Kashmir was accorded special status by Article 370 of the Constitution of India. In contrast to other states of India, Jammu and Kashmir had its own constitution, flag and administrative autonomy. Indian citizens from other states were not allowed to purchase land or property in Jammu and Kashmir.Jammu and Kashmir had three distinct areas: Hindu-majority Jammu region, Muslim-majority Kashmir Valley and Buddhist-dominated Ladakh. Unrest and violence persisted in the Kashmiri Valley and, following a disputed state election in 1987, an insurgency persisted in protest over autonomy and rights.The Bharatiya Janata Party (BJP) came to power in the 2014 Indian general election and five years later included in their 2019 election manifesto the revocation of Article 370 of the Constitution of India, in order to bring Jammu and Kashmir to equal status with other states.A resolution to repeal Article 370 was passed by both the houses of the Parliament of India in August 2019. At the same time, a reorganisation act was also passed, which would reconstitute the state into two union territories, Jammu and Kashmir and Ladakh. The reorganisation took effect from 31 October 2019.'"
      ],
      "execution_count": 11,
      "outputs": []
    },
    {
      "cell_type": "code",
      "metadata": {
        "id": "Jw-KXWGjipsL"
      },
      "source": [
        "def remove_pun(corpus):\r\n",
        "    w=corpus\r\n",
        "    w=re.sub(\"[^a-zA-Z]\", \" \",str(w))\r\n",
        "    return w\r\n",
        "\r\n",
        "def lower(corpus):\r\n",
        "    w=corpus\r\n",
        "    return w.lower()\r\n",
        "\r\n",
        "def make_sen(text):\r\n",
        "  text_str=\"\"\r\n",
        "  for i in text:\r\n",
        "    text_str+=i\r\n",
        "    text_str+=\" \"\r\n",
        "  return text_str"
      ],
      "execution_count": 12,
      "outputs": []
    },
    {
      "cell_type": "code",
      "metadata": {
        "id": "UJv8dDIRgdTg"
      },
      "source": [
        "text1=lower(text1)\r\n",
        "text1=remove_pun(text1)\r\n",
        "text1=Text_preprocessing.remove_stopwords(text1)\r\n",
        "text1=make_sen(text1)\r\n",
        "text1=Text_preprocessing.lemmatization(text1)\r\n",
        "text1=make_sen(text1)"
      ],
      "execution_count": 13,
      "outputs": []
    },
    {
      "cell_type": "code",
      "metadata": {
        "colab": {
          "base_uri": "https://localhost:8080/",
          "height": 137
        },
        "id": "ZJhDTaQ1pcAI",
        "outputId": "d64f030f-8696-487f-a8a1-57ab53048af9"
      },
      "source": [
        "text1"
      ],
      "execution_count": 14,
      "outputs": [
        {
          "output_type": "execute_result",
          "data": {
            "application/vnd.google.colaboratory.intrinsic+json": {
              "type": "string"
            },
            "text/plain": [
              "'state jammu kashmir accorded special status article constitution india contrast state india jammu kashmir constitution flag administrative autonomy indian citizen state allowed purchase land property jammu kashmir jammu kashmir three distinct area hindu majority jammu region muslim majority kashmir valley buddhist dominated ladakh unrest violence persisted kashmiri valley following disputed state election insurgency persisted protest autonomy right bharatiya janata party bjp came power indian general election five year later included election manifesto revocation article constitution india order bring jammu kashmir equal status state resolution repeal article passed house parliament india august time reorganisation act also passed would reconstitute state two union territory jammu kashmir ladakh reorganisation took effect october '"
            ]
          },
          "metadata": {
            "tags": []
          },
          "execution_count": 14
        }
      ]
    },
    {
      "cell_type": "code",
      "metadata": {
        "id": "6HrQCmdBrAm6"
      },
      "source": [
        "text2='The union territory of Jammu and Kashmir is administered under the provisions of Article 239 of the Constitution of India. The Article 239A, originally formulated for the union territory of Puduchery, will also be applicable to Jammu and Kashmir'"
      ],
      "execution_count": 15,
      "outputs": []
    },
    {
      "cell_type": "code",
      "metadata": {
        "id": "v3h31wEorKbn"
      },
      "source": [
        "text2=lower(text2)\r\n",
        "text2=remove_pun(text2)\r\n",
        "text2=Text_preprocessing.remove_stopwords(text2)\r\n",
        "text2=make_sen(text2)\r\n",
        "text2=Text_preprocessing.lemmatization(text2)\r\n",
        "text2=make_sen(text2)"
      ],
      "execution_count": 16,
      "outputs": []
    },
    {
      "cell_type": "code",
      "metadata": {
        "colab": {
          "base_uri": "https://localhost:8080/",
          "height": 52
        },
        "id": "_hnRrLyArxtt",
        "outputId": "20255cb5-f5b3-4461-8afa-729af6338727"
      },
      "source": [
        "text2"
      ],
      "execution_count": 17,
      "outputs": [
        {
          "output_type": "execute_result",
          "data": {
            "application/vnd.google.colaboratory.intrinsic+json": {
              "type": "string"
            },
            "text/plain": [
              "'union territory jammu kashmir administered provision article constitution india article originally formulated union territory puduchery also applicable jammu kashmir '"
            ]
          },
          "metadata": {
            "tags": []
          },
          "execution_count": 17
        }
      ]
    },
    {
      "cell_type": "markdown",
      "metadata": {
        "id": "bicgaLdrrz-o"
      },
      "source": [
        "# Making doc file and finding Bag of words"
      ]
    },
    {
      "cell_type": "code",
      "metadata": {
        "id": "VJ_BKpW7rc3N"
      },
      "source": [
        "document=[text1,text2]"
      ],
      "execution_count": 18,
      "outputs": []
    },
    {
      "cell_type": "code",
      "metadata": {
        "id": "US1FK_-zpdXw"
      },
      "source": [
        "from sklearn.feature_extraction.text import CountVectorizer"
      ],
      "execution_count": 19,
      "outputs": []
    },
    {
      "cell_type": "code",
      "metadata": {
        "id": "MPgeXQqLpxw0"
      },
      "source": [
        "bow=CountVectorizer().fit_transform(document).toarray()"
      ],
      "execution_count": 20,
      "outputs": []
    },
    {
      "cell_type": "code",
      "metadata": {
        "colab": {
          "base_uri": "https://localhost:8080/"
        },
        "id": "WOCx8lM4p3Ru",
        "outputId": "97252788-6619-44c0-a559-7ae3eac5c3d7"
      },
      "source": [
        "bow"
      ],
      "execution_count": 21,
      "outputs": [
        {
          "output_type": "execute_result",
          "data": {
            "text/plain": [
              "array([[1, 1, 0, 1, 1, 1, 0, 1, 3, 1, 2, 1, 1, 1, 1, 1, 1, 3, 1, 1, 1, 1,\n",
              "        1, 3, 1, 1, 1, 1, 0, 1, 1, 1, 1, 4, 2, 1, 7, 1, 7, 1, 2, 1, 1, 2,\n",
              "        1, 1, 1, 1, 0, 1, 1, 2, 2, 1, 1, 1, 0, 0, 1, 1, 1, 2, 1, 1, 1, 1,\n",
              "        1, 6, 2, 1, 1, 1, 1, 1, 1, 1, 2, 1, 1, 1],\n",
              "       [0, 0, 1, 0, 0, 1, 1, 0, 2, 0, 0, 0, 0, 0, 0, 0, 0, 1, 0, 0, 0, 0,\n",
              "        0, 0, 0, 0, 0, 0, 1, 0, 0, 0, 0, 1, 0, 0, 2, 0, 2, 0, 0, 0, 0, 0,\n",
              "        0, 0, 0, 0, 1, 0, 0, 0, 0, 0, 0, 0, 1, 1, 0, 0, 0, 0, 0, 0, 0, 0,\n",
              "        0, 0, 0, 2, 0, 0, 0, 0, 2, 0, 0, 0, 0, 0]])"
            ]
          },
          "metadata": {
            "tags": []
          },
          "execution_count": 21
        }
      ]
    }
  ]
}